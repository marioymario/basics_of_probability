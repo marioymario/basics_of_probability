{
 "cells": [
  {
   "cell_type": "markdown",
   "source": [
    "## Distributions\n",
    " * the mean and standard deviation are shown as vertical lines"
   ],
   "metadata": {}
  },
  {
   "cell_type": "code",
   "execution_count": 6,
   "source": [
    "## importing libraries\n",
    "import numpy as np\n",
    "import pandas as pd\n",
    "import matplotlib.pyplot as plt\n",
    "%matplotlib inline"
   ],
   "outputs": [],
   "metadata": {}
  },
  {
   "cell_type": "markdown",
   "source": [
    "# binominal distribution"
   ],
   "metadata": {}
  },
  {
   "cell_type": "code",
   "execution_count": 7,
   "source": [
    "n, p = 10, .5  # number of trials, probability of each trial\n",
    "snm = np.random.binomial(n, p, 1000)\n",
    "# result of flipping a coin 10 times, tested 1000 times.\n",
    "\n",
    "plt.show()\n",
    "plt.hist(snm, bins=20, color='r')\n",
    "\n",
    "# Add a vertical line at the mean.\n",
    "plt.axvline(snm.mean(), color='b', linestyle='solid', linewidth=2)\n",
    "\n",
    "# Add a vertical line at one standard deviation above the mean.\n",
    "plt.axvline(snm.mean() + snm.std(), color='b', linestyle='dashed', linewidth=2)\n",
    "\n",
    "# Add a vertical line at one standard deviation below the mean.\n",
    "plt.axvline(snm.mean()-snm.std(), color='b', linestyle='dashed', linewidth=2) \n",
    "\n",
    "# Print histogram.\n",
    "plt.show()"
   ],
   "outputs": [
    {
     "output_type": "display_data",
     "data": {
      "text/plain": [
       "<Figure size 432x288 with 1 Axes>"
      ],
      "image/png": "[encoded data removed]"
     },
     "metadata": {
      "needs_background": "light"
     }
    }
   ],
   "metadata": {}
  },
  {
   "cell_type": "markdown",
   "source": [
    "# logaritmic distribution"
   ],
   "metadata": {}
  },
  {
   "cell_type": "code",
   "execution_count": 8,
   "source": [
    "#Samples are drawn from a log series distribution with specified shape parameter, 0 < p < 1.\n",
    "\n",
    "a = .6\n",
    "sn = np.random.logseries(a, 10000) \n",
    "\n",
    "plt.hist(sn, bins=20, color='r')\n",
    "\n",
    "# Add a vertical line at the mean.\n",
    "plt.axvline(sn.mean(), color='b', linestyle='solid', linewidth=2)\n",
    "\n",
    "# Add a vertical line at one standard deviation above the mean.\n",
    "plt.axvline(sn.mean() + sn.std(), color='b', linestyle='dashed', linewidth=2)\n",
    "\n",
    "# Add a vertical line at one standard deviation below the mean.\n",
    "plt.axvline(sn.mean()-sn.std(), color='b', linestyle='dashed', linewidth=2) \n",
    "\n",
    "# Print the histogram.\n",
    "plt.show()\n"
   ],
   "outputs": [
    {
     "output_type": "display_data",
     "data": {
      "text/plain": [
       "<Figure size 432x288 with 1 Axes>"
      ],
      "image/png": "[encoded data removed]"
     },
     "metadata": {
      "needs_background": "light"
     }
    }
   ],
   "metadata": {}
  },
  {
   "cell_type": "markdown",
   "source": [
    "# power distribution"
   ],
   "metadata": {}
  },
  {
   "cell_type": "code",
   "execution_count": 10,
   "source": [
    "a = 5. # shape\n",
    "samples = 1000\n",
    "s = np.random.power(a, samples)\n",
    "#Plot a histogram.\n",
    "plt.hist(s, bins=20, color='r')\n",
    "\n",
    "# Add a vertical line at the mean.\n",
    "plt.axvline(s.mean(), color='b', linestyle='solid', linewidth=2)\n",
    "\n",
    "# Add a vertical line at one standard deviation above the mean.\n",
    "plt.axvline(s.mean() + s.std(), color='b', linestyle='dashed', linewidth=2)\n",
    "\n",
    "# Add a vertical line at one standard deviation below the mean.\n",
    "plt.axvline(s.mean()-s.std(), color='b', linestyle='dashed', linewidth=2) \n",
    "\n",
    "# Print the histogram.\n",
    "plt.show()"
   ],
   "outputs": [
    {
     "output_type": "display_data",
     "data": {
      "text/plain": [
       "<Figure size 432x288 with 1 Axes>"
      ],
      "image/png": "[encoded data removed]"
     },
     "metadata": {
      "needs_background": "light"
     }
    }
   ],
   "metadata": {}
  },
  {
   "cell_type": "markdown",
   "source": [
    "# random\n",
    "in this case random integers"
   ],
   "metadata": {}
  },
  {
   "cell_type": "code",
   "execution_count": 17,
   "source": [
    "#4) RANDOM INTEGERS \n",
    "d1 = np.random.randint(1, 7, 100)\n",
    "#Plot a histogram \n",
    "plt.hist(d1, bins=13, color='r')\n",
    "\n",
    "# Add a vertical line at the mean.\n",
    "plt.axvline(d1.mean(), color='b', linestyle='solid', linewidth=2)\n",
    "\n",
    "# Add a vertical line at one standard deviation above the mean.\n",
    "plt.axvline(d1.mean() + d1.std(), color='b', linestyle='dashed', linewidth=2)\n",
    "\n",
    "# Add a vertical line at one standard deviation below the mean.\n",
    "plt.axvline(d1.mean()-d1.std(), color='b', linestyle='dashed', linewidth=2) \n",
    "\n",
    "# Print the histogram.\n",
    "plt.show()"
   ],
   "outputs": [
    {
     "output_type": "display_data",
     "data": {
      "text/plain": [
       "<Figure size 432x288 with 1 Axes>"
      ],
      "image/png": "[encoded data removed]"
     },
     "metadata": {
      "needs_background": "light"
     }
    }
   ],
   "metadata": {}
  },
  {
   "cell_type": "markdown",
   "source": [
    "# geometric distribution\n",
    "* P =probability of succes\n",
    "* Bernoulli trials are experiments with one of two outcomes: \n",
    "success or failure\n",
    "The geometric distribution models the number of trials that must be run \n",
    "in order to achieve success. It is therefore supported on \n",
    "the positive integers, k = 1, 2, ....\"\"\""
   ],
   "metadata": {}
  },
  {
   "cell_type": "code",
   "execution_count": 19,
   "source": [
    "z = np.random.geometric(p=0.5, size=10000)\n",
    "#Plot a histogram .\n",
    "plt.hist(z, bins=20, color='r')\n",
    "\n",
    "# Add a vertical line at the mean.\n",
    "plt.axvline(z.mean(), color='b', linestyle='solid', linewidth=2)\n",
    "\n",
    "# Add a vertical line at one standard deviation above the mean.\n",
    "plt.axvline(z.mean() + z.std(), color='b', linestyle='dashed', linewidth=2)\n",
    "\n",
    "# Add a vertical line at one standard deviation below the mean.\n",
    "plt.axvline(z.mean()-z.std(), color='b', linestyle='dashed', linewidth=2) \n",
    "\n",
    "# Print the histogram.\n",
    "plt.show()"
   ],
   "outputs": [
    {
     "output_type": "display_data",
     "data": {
      "text/plain": [
       "<Figure size 432x288 with 1 Axes>"
      ],
      "image/png": "[encoded data removed]"
     },
     "metadata": {
      "needs_background": "light"
     }
    }
   ],
   "metadata": {}
  },
  {
   "cell_type": "markdown",
   "source": [
    "# chisquare"
   ],
   "metadata": {}
  },
  {
   "cell_type": "code",
   "execution_count": 21,
   "source": [
    "chisq = np.random.noncentral_chisquare(3, 20, 100000)\n",
    "#Plot a histogram.\n",
    "plt.hist(chisq, bins=20, color='r')\n",
    "\n",
    "# Add a vertical line at the mean.\n",
    "plt.axvline(chisq.mean(), color='b', linestyle='solid', linewidth=2)\n",
    "\n",
    "# Add a vertical line at one standard deviation above the mean.\n",
    "plt.axvline(chisq.mean() + chisq.std(), color='b', linestyle='dashed', linewidth=2)\n",
    "\n",
    "# Add a vertical line at one standard deviation below the mean.\n",
    "plt.axvline(chisq.mean()-chisq.std(), color='b', linestyle='dashed', linewidth=2) \n",
    "\n",
    "# Print the histogram.\n",
    "plt.show()"
   ],
   "outputs": [
    {
     "output_type": "display_data",
     "data": {
      "text/plain": [
       "<Figure size 432x288 with 1 Axes>"
      ],
      "image/png": "[encoded data removed]"
     },
     "metadata": {
      "needs_background": "light"
     }
    }
   ],
   "metadata": {}
  },
  {
   "cell_type": "markdown",
   "source": [
    "# Laplace distribution\n",
    " * The first law of Laplace, from 1774, states that the \n",
    "frequency of an error can be expressed as an exponential \n",
    "function of the absolute magnitude of the error, which \n",
    "leads to the Laplace distribution. For many problems in \n",
    "economics and health sciences, this distribution seems \n",
    "to model the data better than the standard Gaussian distribution.\n"
   ],
   "metadata": {}
  },
  {
   "cell_type": "code",
   "execution_count": 37,
   "source": [
    "var1 = np.random.laplace(5,.5, 100)\n",
    "var2 = np.random.laplace(10,1, 100)\n",
    "var3 = var1+var2\n",
    "\n",
    "mean = np.mean(var3)\n",
    "sd = np.std(var3)\n",
    "\n",
    "plt.hist(var3, bins=20, color='r')\n",
    "plt.axvline(x=mean,color='b')\n",
    "plt.axvline(x=mean+sd, color='b',linestyle='dashed')\n",
    "plt.axvline(x=mean-sd, color='b',linestyle='dashed')\n",
    "plt.show()\n"
   ],
   "outputs": [
    {
     "output_type": "display_data",
     "data": {
      "text/plain": [
       "<Figure size 432x288 with 1 Axes>"
      ],
      "image/png": "[encoded data removed]"
     },
     "metadata": {
      "needs_background": "light"
     }
    }
   ],
   "metadata": {}
  },
  {
   "cell_type": "markdown",
   "source": [
    "# logistic distribution\n",
    "* The Logistic distribution is used in Extreme Value problems where it \n",
    "can act as a mixture of Gumbel distributions, in Epidemiology, and by \n",
    "the World Chess Federation (FIDE) where it is used in the Elo ranking system, \n",
    "assuming the performance of each player is a logistically \n",
    "distributed random variable."
   ],
   "metadata": {}
  },
  {
   "cell_type": "code",
   "execution_count": 39,
   "source": [
    "var1 = np.random.logistic(5,.5, 100)\n",
    "var2 = np.random.logistic(10,1, 100)\n",
    "var3 = var1+var2\n",
    "\n",
    "mean = np.mean(var3)\n",
    "sd = np.std(var3)\n",
    "\n",
    "plt.hist(var3,bins=20, color='r')\n",
    "plt.axvline(x=mean,color='b')\n",
    "plt.axvline(x=mean+sd, color='b',linestyle='dashed')\n",
    "plt.axvline(x=mean-sd, color='b', linestyle='dashed')\n",
    "plt.show()\n"
   ],
   "outputs": [
    {
     "output_type": "display_data",
     "data": {
      "text/plain": [
       "<Figure size 432x288 with 1 Axes>"
      ],
      "image/png": "[encoded data removed]"
     },
     "metadata": {
      "needs_background": "light"
     }
    }
   ],
   "metadata": {}
  },
  {
   "cell_type": "markdown",
   "source": [
    "# Gumbel distribution\n",
    "* The Gumbel (or Smallest Extreme Value (SEV) or the Smallest Extreme \n",
    "Value Type I) distribution is one of a class of Generalized Extreme Value \n",
    "(GEV) distributions used in modeling extreme value problems. \n",
    "The Gumbel is a special case of the Extreme Value Type I distribution \n",
    "for maximums from distributions with “exponential-like” tails."
   ],
   "metadata": {}
  },
  {
   "cell_type": "code",
   "execution_count": 43,
   "source": [
    "var1 = np.random.gumbel(5,.5, 100)\n",
    "var2 = np.random.gumbel(10,1, 100)\n",
    "var3 = var1+var2\n",
    "\n",
    "mean = np.mean(var3)\n",
    "sd = np.std(var3)\n",
    "\n",
    "plt.hist(var3, bins=20, color='r')\n",
    "plt.axvline(x=mean,color='b')\n",
    "plt.axvline(x=mean+sd, color='b',linestyle='dashed')\n",
    "plt.axvline(x=mean-sd, color='b',linestyle='dashed')\n",
    "plt.show()"
   ],
   "outputs": [
    {
     "output_type": "display_data",
     "data": {
      "text/plain": [
       "<Figure size 432x288 with 1 Axes>"
      ],
      "image/png": "[encoded data removed]"
     },
     "metadata": {
      "needs_background": "light"
     }
    }
   ],
   "metadata": {}
  },
  {
   "cell_type": "markdown",
   "source": [
    "# normal distribution"
   ],
   "metadata": {}
  },
  {
   "cell_type": "code",
   "execution_count": 44,
   "source": [
    "var1 = np.random.normal(5,.5, 100)\n",
    "var2 = np.random.normal(10,1, 100)\n",
    "var3 = var1+var2\n",
    "\n",
    "mean = np.mean(var3)\n",
    "sd = np.std(var3)\n",
    "\n",
    "plt.hist(var3, bins=20, color='r')\n",
    "plt.axvline(x=mean,color='b')\n",
    "plt.axvline(x=mean+sd, color='b', linestyle='dashed')\n",
    "plt.axvline(x=mean-sd, color='b', linestyle='dashed')\n",
    "plt.show()"
   ],
   "outputs": [
    {
     "output_type": "display_data",
     "data": {
      "text/plain": [
       "<Figure size 432x288 with 1 Axes>"
      ],
      "image/png": "[encoded data removed]"
     },
     "metadata": {
      "needs_background": "light"
     }
    }
   ],
   "metadata": {}
  }
 ],
 "metadata": {
  "orig_nbformat": 4,
  "language_info": {
   "name": "python",
   "version": "3.8.8",
   "mimetype": "text/x-python",
   "codemirror_mode": {
    "name": "ipython",
    "version": 3
   },
   "pygments_lexer": "ipython3",
   "nbconvert_exporter": "python",
   "file_extension": ".py"
  },
  "kernelspec": {
   "name": "python3",
   "display_name": "Python 3.8.8 64-bit ('base': conda)"
  },
  "interpreter": {
   "hash": "b49979e09cb25802cc3ccc1c6e843e38673b3a54edb12e07edd9d75638cb75d3"
  }
 },
 "nbformat": 4,
 "nbformat_minor": 2
}